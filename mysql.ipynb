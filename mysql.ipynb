{
 "cells": [
  {
   "cell_type": "code",
   "execution_count": 2,
   "metadata": {},
   "outputs": [],
   "source": [
    "import mysql.connector\n",
    "#importing database\n",
    "database = mysql.connector.connect(\n",
    "    host=\"localhost\",\n",
    "    user=\"root\",\n",
    "    password=\"\",\n",
    "    database = \"class430\"\n",
    "    )\n",
    "db = database.cursor()"
   ]
  },
  {
   "cell_type": "code",
   "execution_count": 2,
   "metadata": {},
   "outputs": [
    {
     "name": "stdout",
     "output_type": "stream",
     "text": [
      "[(1, 'Coke', 100, 2, 200), (2, 'Momo', 100, 3, 300), (3, 'Chowmin', 150, 2, 300), (4, 'Fanta', 50, 4, 200), (5, 'Slice', 100, 4, 400)]\n"
     ]
    }
   ],
   "source": [
    "db.execute(\"SELECT * FROM bill\")\n",
    "result = db.fetchall()\n",
    "print(result)"
   ]
  },
  {
   "cell_type": "code",
   "execution_count": 3,
   "metadata": {},
   "outputs": [
    {
     "name": "stdout",
     "output_type": "stream",
     "text": [
      "[(2, 'Momo', 100, 3, 300)]\n"
     ]
    }
   ],
   "source": [
    "db.execute(\"SELECT * FROM bill WHERE name = 'momo'\")\n",
    "result = db.fetchall()\n",
    "print(result)"
   ]
  },
  {
   "cell_type": "code",
   "execution_count": 4,
   "metadata": {},
   "outputs": [
    {
     "name": "stdout",
     "output_type": "stream",
     "text": [
      "[(3, 'Chowmin', 150, 2, 300)]\n"
     ]
    }
   ],
   "source": [
    "db.execute(\"SELECT * FROM bill WHERE price > 100\")\n",
    "result = db.fetchall()\n",
    "print(result)"
   ]
  },
  {
   "cell_type": "code",
   "execution_count": 7,
   "metadata": {},
   "outputs": [
    {
     "name": "stdout",
     "output_type": "stream",
     "text": [
      "[(5, 'Slice', 100, 4, 400)]\n"
     ]
    }
   ],
   "source": [
    "db.execute(\"SELECT * FROM bill WHERE price >= 100 and quantity = 4\")\n",
    "result = db.fetchall()\n",
    "print(result)"
   ]
  },
  {
   "cell_type": "code",
   "execution_count": 14,
   "metadata": {},
   "outputs": [
    {
     "name": "stdout",
     "output_type": "stream",
     "text": [
      "Enter name = Salad\n",
      "Enter price = 100\n",
      "ENter quantity = 2\n",
      "INSERT INTO bill(name, price, quantity, total) VALUES ('Salad','100','2','200')\n"
     ]
    }
   ],
   "source": [
    "name = input(\"Enter name = \")\n",
    "price = int(input(\"Enter price = \"))\n",
    "quantity = int(input(\"ENter quantity = \"))\n",
    "total = price*quantity\n",
    "sql = f\"INSERT INTO bill(name, price, quantity, total) VALUES ('{name}','{price}','{quantity}','{total}')\"\n",
    "print(sql)\n",
    "db.execute(sql)\n",
    "database.commit()\n"
   ]
  },
  {
   "cell_type": "code",
   "execution_count": 13,
   "metadata": {},
   "outputs": [],
   "source": [
    "n = int(input(\"Enter n = \"))\n",
    "for i in range(n):\n",
    "    name = input(\"Enter name = \")\n",
    "    price = int(input(\"Enter price = \"))\n",
    "    quantity = int(input(\"ENter quantity = \"))\n",
    "    total = price*quantity\n",
    "    sql = f\"INSERT INTO bill(name, price, quantity, total) VALUES ('{name}','{price}','{quantity}','{total}')\"\n",
    "    print(sql)\n",
    "    db.execute(sql)\n",
    "database.commit()"
   ]
  },
  {
   "cell_type": "code",
   "execution_count": 14,
   "metadata": {},
   "outputs": [
    {
     "name": "stdout",
     "output_type": "stream",
     "text": [
      "UPDATE bill SET quantity = 3 , total = 300 WHERE name = 'Coke' \n"
     ]
    }
   ],
   "source": [
    "quantity = 3\n",
    "price = 100\n",
    "total = 300\n",
    "sql = \"UPDATE bill SET quantity = 3 , total = 300 WHERE name = 'Coke' \"\n",
    "print(sql)\n",
    "db.execute(sql)\n",
    "database.commit()"
   ]
  },
  {
   "cell_type": "code",
   "execution_count": 3,
   "metadata": {},
   "outputs": [],
   "source": [
    "sql = f\"DELETE FROM bill WHERE name = 'Salad'\"\n",
    "\n",
    "db.execute(sql)\n",
    "database.commit()"
   ]
  },
  {
   "cell_type": "code",
   "execution_count": null,
   "metadata": {},
   "outputs": [],
   "source": [
    "# WAP For Student management system to entry,read,update and delete the student record\n",
    "# WAP for hotel management system (billing) (entry,read,update,delete)"
   ]
  }
 ],
 "metadata": {
  "kernelspec": {
   "display_name": "Python 3",
   "language": "python",
   "name": "python3"
  },
  "language_info": {
   "codemirror_mode": {
    "name": "ipython",
    "version": 3
   },
   "file_extension": ".py",
   "mimetype": "text/x-python",
   "name": "python",
   "nbconvert_exporter": "python",
   "pygments_lexer": "ipython3",
   "version": "3.7.1"
  }
 },
 "nbformat": 4,
 "nbformat_minor": 2
}
