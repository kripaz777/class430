{
 "cells": [
  {
   "cell_type": "code",
   "execution_count": 1,
   "metadata": {},
   "outputs": [],
   "source": [
    "# b = open<file_name>,<modes>\n",
    "# b.close()\n",
    "# modes \n",
    "# read\n",
    "# write\n",
    "# create\n",
    "# append"
   ]
  },
  {
   "cell_type": "code",
   "execution_count": 2,
   "metadata": {},
   "outputs": [],
   "source": [
    "b = open('data.txt','x')\n",
    "b.close()"
   ]
  },
  {
   "cell_type": "code",
   "execution_count": 3,
   "metadata": {},
   "outputs": [
    {
     "name": "stdout",
     "output_type": "stream",
     "text": [
      "1.Hello World\n",
      "2.Hello World\n",
      "3.Hello World\n",
      "4.Hello World\n",
      "5.Hello World\n",
      "6.Hello World\n",
      "7.Hello World\n"
     ]
    }
   ],
   "source": [
    "b = open('data.txt','r')\n",
    "print(b.read())\n",
    "b.close()"
   ]
  },
  {
   "cell_type": "code",
   "execution_count": 4,
   "metadata": {},
   "outputs": [
    {
     "name": "stdout",
     "output_type": "stream",
     "text": [
      "1.Hello World\n",
      "2.Hello World\n",
      "3.Hello World\n",
      "4.Hello World\n",
      "5.Hello World\n",
      "6.Hello World\n",
      "7.Hello World\n",
      "<class 'str'>\n"
     ]
    }
   ],
   "source": [
    "b = open('data.txt','r')\n",
    "c = b.read()\n",
    "print(c)\n",
    "print(type(c))\n",
    "\n",
    "b.close()"
   ]
  },
  {
   "cell_type": "code",
   "execution_count": 5,
   "metadata": {},
   "outputs": [
    {
     "name": "stdout",
     "output_type": "stream",
     "text": [
      "Ram,45,Patan\n",
      "shyam,34,Kathmandu\n",
      "<class 'str'>\n"
     ]
    }
   ],
   "source": [
    "b = open('data.txt','r')\n",
    "c = b.read()\n",
    "print(c)\n",
    "print(type(c))\n",
    "\n",
    "b.close()"
   ]
  },
  {
   "cell_type": "code",
   "execution_count": 6,
   "metadata": {},
   "outputs": [],
   "source": [
    "b = open('data.txt','a')\n",
    "b.write('Sita,34,Baluwatar')\n",
    "\n",
    "b.close()"
   ]
  },
  {
   "cell_type": "code",
   "execution_count": 8,
   "metadata": {},
   "outputs": [
    {
     "name": "stdout",
     "output_type": "stream",
     "text": [
      "Enter n = 3\n",
      "Enter name = Ram\n",
      "Enter phone = 9856554543\n",
      "Enter address = Patan\n",
      "Enter name = Sita\n",
      "Enter phone = 9845443432\n",
      "Enter address = Kathmandu\n",
      "Enter name = Sital\n",
      "Enter phone = 34\n",
      "Enter address = Bara\n",
      "Ram,9856554543,Patan\n",
      "Sita,9845443432,Kathmandu\n",
      "Sital,34,Bara\n",
      "\n"
     ]
    }
   ],
   "source": [
    "n = int(input(\"Enter n = \"))\n",
    "data = str()\n",
    "b = open('data.csv','w')\n",
    "for i in range(n):\n",
    "    name = input(\"Enter name = \")\n",
    "    age = int(input(\"Enter phone = \"))\n",
    "    add = input(\"Enter address = \")\n",
    "    info = f\"{name},{age},{add}\\n\"\n",
    "    data = data+info\n",
    "b.write(data)\n",
    "b.close()\n",
    "print(data)"
   ]
  },
  {
   "cell_type": "code",
   "execution_count": 10,
   "metadata": {},
   "outputs": [
    {
     "name": "stdout",
     "output_type": "stream",
     "text": [
      "Ram,9856554543,Kayhmandu\n",
      "Shyam,9845443432,Patan\n",
      "Hari,9856554543,Bhaktapur\n",
      "\n"
     ]
    }
   ],
   "source": [
    "b = open('data.txt','r')\n",
    "x = b.read()\n",
    "print(x)\n",
    "b.close()"
   ]
  },
  {
   "cell_type": "code",
   "execution_count": 13,
   "metadata": {},
   "outputs": [
    {
     "name": "stdout",
     "output_type": "stream",
     "text": [
      "['Ram,9856554543,Kayhmandu', 'Shyam,9845443432,Patan', 'Hari,9856554543,Bhaktapur', '']\n"
     ]
    }
   ],
   "source": [
    "z = x.split('\\n')\n",
    "print(z)"
   ]
  },
  {
   "cell_type": "code",
   "execution_count": 15,
   "metadata": {},
   "outputs": [
    {
     "name": "stdout",
     "output_type": "stream",
     "text": [
      "['Ram,9856554543,Kayhmandu', 'Shyam,9845443432,Patan', 'Hari,9856554543,Bhaktapur']\n"
     ]
    }
   ],
   "source": [
    "data = z[0:-1]\n",
    "print(data)"
   ]
  },
  {
   "cell_type": "code",
   "execution_count": 17,
   "metadata": {},
   "outputs": [
    {
     "data": {
      "text/plain": [
       "['Ram', '9856554543', 'Kayhmandu']"
      ]
     },
     "execution_count": 17,
     "metadata": {},
     "output_type": "execute_result"
    }
   ],
   "source": [
    "data[0].split(',')"
   ]
  },
  {
   "cell_type": "code",
   "execution_count": 18,
   "metadata": {},
   "outputs": [
    {
     "name": "stdout",
     "output_type": "stream",
     "text": [
      "Ram,9856554543,Kayhmandu\n",
      "Shyam,9845443432,Patan\n",
      "Hari,9856554543,Bhaktapur\n",
      "\n",
      "['Ram,9856554543,Kayhmandu', 'Shyam,9845443432,Patan', 'Hari,9856554543,Bhaktapur', '']\n",
      "['Ram,9856554543,Kayhmandu', 'Shyam,9845443432,Patan', 'Hari,9856554543,Bhaktapur']\n"
     ]
    }
   ],
   "source": [
    "b = open('data.txt','r')\n",
    "x = b.read()\n",
    "print(x)\n",
    "b.close()\n",
    "z = x.split('\\n')\n",
    "print(z)\n",
    "data = z[0:-1]\n",
    "print(data)"
   ]
  },
  {
   "cell_type": "code",
   "execution_count": 20,
   "metadata": {},
   "outputs": [
    {
     "name": "stdout",
     "output_type": "stream",
     "text": [
      "[['Ram', '9856554543', 'Kayhmandu'], ['Shyam', '9845443432', 'Patan'], ['Hari', '9856554543', 'Bhaktapur']]\n"
     ]
    }
   ],
   "source": [
    "final_data = []\n",
    "for i in data:\n",
    "    k = i.split(',')\n",
    "    final_data.append(k)\n",
    "    \n",
    "print(final_data)"
   ]
  },
  {
   "cell_type": "code",
   "execution_count": 24,
   "metadata": {},
   "outputs": [
    {
     "data": {
      "text/plain": [
       "[['Ram Prasad', '9856554543', 'Kayhmandu'],\n",
       " ['Shyam', '9845443432', 'Patan'],\n",
       " ['Hari', '9856554543', 'Bhaktapur']]"
      ]
     },
     "execution_count": 24,
     "metadata": {},
     "output_type": "execute_result"
    }
   ],
   "source": [
    "final_data[0][0] = 'Ram Prasad'\n",
    "final_data"
   ]
  },
  {
   "cell_type": "code",
   "execution_count": 27,
   "metadata": {},
   "outputs": [],
   "source": [
    "b = open('data.txt','w')\n",
    "for i in final_data:\n",
    "    x = f\"{i[0]},{i[1]},{i[2]}\\n\"\n",
    "    b.write(x)\n",
    "b.close()"
   ]
  },
  {
   "cell_type": "code",
   "execution_count": 31,
   "metadata": {},
   "outputs": [
    {
     "name": "stdout",
     "output_type": "stream",
     "text": [
      "There is already the file name\n"
     ]
    }
   ],
   "source": [
    "try:\n",
    "    b = open('dataa.txt','x')\n",
    "except:\n",
    "    print(\"There is already the file name\")\n",
    "b.close()"
   ]
  },
  {
   "cell_type": "code",
   "execution_count": 33,
   "metadata": {},
   "outputs": [],
   "source": [
    "import os\n",
    "os.remove('data.txt')"
   ]
  },
  {
   "cell_type": "code",
   "execution_count": 35,
   "metadata": {},
   "outputs": [
    {
     "data": {
      "text/plain": [
       "'Untitled Folder 10/data.csv'"
      ]
     },
     "execution_count": 35,
     "metadata": {},
     "output_type": "execute_result"
    }
   ],
   "source": [
    "import shutil as s\n",
    "src = 'data.csv'\n",
    "dst = 'Untitled Folder 10/'\n",
    "s.copy(src,dst)"
   ]
  },
  {
   "cell_type": "code",
   "execution_count": 36,
   "metadata": {},
   "outputs": [
    {
     "data": {
      "text/plain": [
       "'Untitled'"
      ]
     },
     "execution_count": 36,
     "metadata": {},
     "output_type": "execute_result"
    }
   ],
   "source": [
    "import shutil as s\n",
    "s.copytree('Untitled Folder 10/', 'Untitled')\n"
   ]
  },
  {
   "cell_type": "code",
   "execution_count": null,
   "metadata": {},
   "outputs": [],
   "source": []
  }
 ],
 "metadata": {
  "kernelspec": {
   "display_name": "Python 3",
   "language": "python",
   "name": "python3"
  },
  "language_info": {
   "codemirror_mode": {
    "name": "ipython",
    "version": 3
   },
   "file_extension": ".py",
   "mimetype": "text/x-python",
   "name": "python",
   "nbconvert_exporter": "python",
   "pygments_lexer": "ipython3",
   "version": "3.7.1"
  }
 },
 "nbformat": 4,
 "nbformat_minor": 2
}
