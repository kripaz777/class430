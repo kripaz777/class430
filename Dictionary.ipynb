{
 "cells": [
  {
   "cell_type": "code",
   "execution_count": 1,
   "metadata": {},
   "outputs": [],
   "source": [
    "# a = {}\n",
    "# a = {<key>:<value>,<key>:<value>}"
   ]
  },
  {
   "cell_type": "code",
   "execution_count": 2,
   "metadata": {},
   "outputs": [
    {
     "name": "stdout",
     "output_type": "stream",
     "text": [
      "{'A': 'Apple', 'B': 'Ball'}\n"
     ]
    }
   ],
   "source": [
    "a = {\"A\":\"Apple\",\"B\":\"Ball\"}\n",
    "print(a)"
   ]
  },
  {
   "cell_type": "code",
   "execution_count": 4,
   "metadata": {},
   "outputs": [
    {
     "name": "stdout",
     "output_type": "stream",
     "text": [
      "Ball\n"
     ]
    }
   ],
   "source": [
    "print(a['B'])"
   ]
  },
  {
   "cell_type": "code",
   "execution_count": 5,
   "metadata": {},
   "outputs": [],
   "source": [
    "# Dict\n",
    "# -Indexed\n",
    "# -Unordered\n",
    "# -Duplicate value but no duplicate key\n",
    "# -Multple values\n",
    "# -Mutable"
   ]
  },
  {
   "cell_type": "code",
   "execution_count": 7,
   "metadata": {},
   "outputs": [
    {
     "name": "stdout",
     "output_type": "stream",
     "text": [
      "{'A': 'Apple', 0: 'Ball'}\n"
     ]
    }
   ],
   "source": [
    "a = {\"A\":\"Apple\",\"1B\":\"Ball\"}\n",
    "print(a)"
   ]
  },
  {
   "cell_type": "code",
   "execution_count": 8,
   "metadata": {},
   "outputs": [
    {
     "name": "stdout",
     "output_type": "stream",
     "text": [
      "{'A': 'Apple', '1B': 'Ball', 'a': 'Apple'}\n"
     ]
    }
   ],
   "source": [
    "a = {\"A\":\"Apple\",\"1B\":\"Ball\",\"a\":\"Apple\"}\n",
    "print(a)"
   ]
  },
  {
   "cell_type": "code",
   "execution_count": 12,
   "metadata": {},
   "outputs": [
    {
     "name": "stdout",
     "output_type": "stream",
     "text": [
      "{'A': 'apple', '1B': 'Ball', 'a': 'Apple'}\n"
     ]
    }
   ],
   "source": [
    "a = {\"A\":\"Apple\",\"1B\":\"Ball\",\"a\":\"Apple\"}\n",
    "a[\"A\"] = \"apple\"\n",
    "print(a)"
   ]
  },
  {
   "cell_type": "code",
   "execution_count": 14,
   "metadata": {},
   "outputs": [
    {
     "name": "stdout",
     "output_type": "stream",
     "text": [
      "{'a': 'apple', 'b': 'ball'}\n"
     ]
    }
   ],
   "source": [
    "a = {}\n",
    "a[\"a\"] = \"apple\"\n",
    "a[\"b\"] = \"ball\"\n",
    "\n",
    "print(a)"
   ]
  },
  {
   "cell_type": "code",
   "execution_count": 15,
   "metadata": {},
   "outputs": [
    {
     "name": "stdout",
     "output_type": "stream",
     "text": [
      "Enter n = 2\n",
      "Enter name = Ram\n",
      "Enter phone = 9856554543\n",
      "Enter name = Shyam\n",
      "Enter phone = 9856554543\n",
      "{'Ram': '9856554543', 'Shyam': '9856554543'}\n"
     ]
    }
   ],
   "source": [
    "d = dict()\n",
    "n = int(input(\"Enter n = \"))\n",
    "for i in range(n):\n",
    "    name = input(\"Enter name = \")\n",
    "    phone = input(\"Enter phone = \")\n",
    "    d[name] = phone\n",
    "    \n",
    "print(d)"
   ]
  },
  {
   "cell_type": "code",
   "execution_count": 16,
   "metadata": {},
   "outputs": [
    {
     "name": "stdout",
     "output_type": "stream",
     "text": [
      "{'Ram': 9856443321, 'Shyam': '9856554543'}\n"
     ]
    }
   ],
   "source": [
    "a = {'Ram': '9856554543', 'Shyam': '9856554543'}\n",
    "a['Ram'] = 9856443321\n",
    "print(a)"
   ]
  },
  {
   "cell_type": "code",
   "execution_count": 17,
   "metadata": {},
   "outputs": [
    {
     "name": "stdout",
     "output_type": "stream",
     "text": [
      "Ram\n",
      "Shyam\n"
     ]
    }
   ],
   "source": [
    "for i in a:\n",
    "    print(i)"
   ]
  },
  {
   "cell_type": "code",
   "execution_count": 18,
   "metadata": {},
   "outputs": [
    {
     "name": "stdout",
     "output_type": "stream",
     "text": [
      "9856443321\n",
      "9856554543\n"
     ]
    }
   ],
   "source": [
    "for i in a.values():\n",
    "    print(i)"
   ]
  },
  {
   "cell_type": "code",
   "execution_count": 19,
   "metadata": {},
   "outputs": [
    {
     "name": "stdout",
     "output_type": "stream",
     "text": [
      "('Ram', 9856443321)\n",
      "('Shyam', '9856554543')\n"
     ]
    }
   ],
   "source": [
    "for i in a.items():\n",
    "    print(i)"
   ]
  },
  {
   "cell_type": "code",
   "execution_count": 22,
   "metadata": {},
   "outputs": [
    {
     "name": "stdout",
     "output_type": "stream",
     "text": [
      "{'A': 'Apple', '1B': 'Ball', 'a': 'Apple', 'C': 'Cat', 'D': 'Dog'}\n"
     ]
    }
   ],
   "source": [
    "a = {\"A\":\"Apple\",\"1B\":\"Ball\",\"a\":\"Apple\"}\n",
    "b = {\"C\":\"Cat\",\"D\":\"Dog\"}\n",
    "a.update(b)\n",
    "print(a)"
   ]
  },
  {
   "cell_type": "code",
   "execution_count": 23,
   "metadata": {},
   "outputs": [
    {
     "name": "stdout",
     "output_type": "stream",
     "text": [
      "{'1B': 'Ball', 'a': 'Apple', 'C': 'Cat', 'D': 'Dog'}\n"
     ]
    }
   ],
   "source": [
    "a = {'A': 'Apple', '1B': 'Ball', 'a': 'Apple', 'C': 'Cat', 'D': 'Dog'}\n",
    "del a['A']\n",
    "print(a)"
   ]
  },
  {
   "cell_type": "code",
   "execution_count": 24,
   "metadata": {},
   "outputs": [
    {
     "name": "stdout",
     "output_type": "stream",
     "text": [
      "{'1B': 'Ball', 'a': 'Apple', 'C': 'Cat', 'D': 'Dog'}\n"
     ]
    }
   ],
   "source": [
    "a = {'A': 'Apple', '1B': 'Ball', 'a': 'Apple', 'C': 'Cat', 'D': 'Dog'}\n",
    "a.pop('A')\n",
    "print(a)"
   ]
  },
  {
   "cell_type": "code",
   "execution_count": 25,
   "metadata": {},
   "outputs": [
    {
     "data": {
      "text/plain": [
       "4"
      ]
     },
     "execution_count": 25,
     "metadata": {},
     "output_type": "execute_result"
    }
   ],
   "source": [
    "len(a)"
   ]
  },
  {
   "cell_type": "code",
   "execution_count": 31,
   "metadata": {},
   "outputs": [
    {
     "name": "stdout",
     "output_type": "stream",
     "text": [
      "[('1B', 'Ball'), ('a', 'Apple'), ('C', 'Cat'), ('D', 'Dog')]\n"
     ]
    }
   ],
   "source": [
    "l = []\n",
    "a = {'1B': 'Ball', 'a': 'Apple', 'C': 'Cat', 'D': 'Dog'}\n",
    "\n",
    "for i in a.items():\n",
    "    l.append(i)\n",
    "    \n",
    "print(l)"
   ]
  },
  {
   "cell_type": "code",
   "execution_count": 32,
   "metadata": {},
   "outputs": [
    {
     "name": "stdout",
     "output_type": "stream",
     "text": [
      "[['1B', 'Ball'], ['a', 'Apple'], ['C', 'Cat'], ['D', 'Dog']]\n"
     ]
    }
   ],
   "source": [
    "l = []\n",
    "a = {'1B': 'Ball', 'a': 'Apple', 'C': 'Cat', 'D': 'Dog'}\n",
    "\n",
    "for i in a.items():\n",
    "    l.append(list(i))\n",
    "    \n",
    "print(l)"
   ]
  },
  {
   "cell_type": "code",
   "execution_count": 29,
   "metadata": {},
   "outputs": [
    {
     "name": "stdout",
     "output_type": "stream",
     "text": [
      "{'1B': 'Ball', 'a': 'Apple', 'C': 'Cat', 'D': 'Dog'}\n"
     ]
    }
   ],
   "source": [
    "d = {}\n",
    "a = [('1B', 'Ball'), ('a', 'Apple'), ('C', 'Cat'), ('D', 'Dog')]\n",
    "for i in a:\n",
    "    key = i[0]\n",
    "    value = i[1]\n",
    "    d[key] = value\n",
    "print(d)"
   ]
  },
  {
   "cell_type": "code",
   "execution_count": 33,
   "metadata": {},
   "outputs": [],
   "source": [
    "# key - imputable\n",
    "# value - all datatype"
   ]
  },
  {
   "cell_type": "code",
   "execution_count": 35,
   "metadata": {},
   "outputs": [],
   "source": [
    "a = {(\"a\",):\"Apple\",\"b\":\"Ball\"}"
   ]
  },
  {
   "cell_type": "code",
   "execution_count": 37,
   "metadata": {},
   "outputs": [
    {
     "name": "stdout",
     "output_type": "stream",
     "text": [
      "('A', ['Apple', 'Ant'])\n",
      "('B', ['Ball', 'Bat'])\n"
     ]
    }
   ],
   "source": [
    "# list inside Dictionary\n",
    "d = {\"A\":[\"Apple\",\"Ant\"],\"B\":[\"Ball\",\"Bat\"]}\n",
    "for i in d.items():\n",
    "    print(i)"
   ]
  },
  {
   "cell_type": "code",
   "execution_count": 39,
   "metadata": {},
   "outputs": [
    {
     "name": "stdout",
     "output_type": "stream",
     "text": [
      "{'A': ['Apple', 'Ant'], 'B': ['Ball', 'Bat'], 'C': ['Cat', 'Cab']}\n"
     ]
    }
   ],
   "source": [
    "d[\"C\"] = [\"Cat\",\"Cab\"]\n",
    "print(d)"
   ]
  },
  {
   "cell_type": "code",
   "execution_count": 41,
   "metadata": {},
   "outputs": [
    {
     "name": "stdout",
     "output_type": "stream",
     "text": [
      "{'A': ['Apple', 'Ant', 'apple'], 'B': ['Ball', 'Bat'], 'C': ['Cat', 'Cab']}\n"
     ]
    }
   ],
   "source": [
    "a = {'A': ['Apple', 'Ant'], 'B': ['Ball', 'Bat'], 'C': ['Cat', 'Cab']}\n",
    "a['A'].append('apple')\n",
    "print(a)"
   ]
  },
  {
   "cell_type": "code",
   "execution_count": 42,
   "metadata": {},
   "outputs": [
    {
     "name": "stdout",
     "output_type": "stream",
     "text": [
      "Enter n = 2\n",
      "Enter name = Ram\n",
      "Enter ntc phone = 9856454323\n",
      "Enter ncell phone = Shyam\n",
      "Enter name = 9856554543\n",
      "Enter ntc phone = 9756554543\n",
      "Enter ncell phone =  9845443432\n",
      "{'Ram': ['9856454323', 'Shyam'], '9856554543': ['9756554543', ' 9845443432']}\n"
     ]
    }
   ],
   "source": [
    "d = dict()\n",
    "n = int(input(\"Enter n = \"))\n",
    "for i in range(n):\n",
    "    name = input(\"Enter name = \")\n",
    "    nt_phone = input(\"Enter ntc phone = \")\n",
    "    nc_phone = input(\"Enter ncell phone = \")\n",
    "    d[name] = [nt_phone,nc_phone]\n",
    "    \n",
    "print(d)"
   ]
  },
  {
   "cell_type": "code",
   "execution_count": 45,
   "metadata": {},
   "outputs": [
    {
     "name": "stdout",
     "output_type": "stream",
     "text": [
      "Enter n = 2\n",
      "Enter ntc phone = 6456465\n",
      "Enter ncell phone = 345345\n",
      "Enter ntc phone = 56654\n",
      "Enter ncell phone = 3534\n",
      "{'Ncell': ['345345', '3534'], 'NTC': ['6456465', '56654']}\n"
     ]
    }
   ],
   "source": [
    "d = dict()\n",
    "nt =[]\n",
    "nc = []\n",
    "n = int(input(\"Enter n = \"))\n",
    "for i in range(n):\n",
    "#     name = input(\"Enter name = \")\n",
    "    nt_phone = input(\"Enter ntc phone = \")\n",
    "    nc_phone = input(\"Enter ncell phone = \")\n",
    "    nt.append(nt_phone)\n",
    "    nc.append(nc_phone)\n",
    "    \n",
    "d[\"Ncell\"] = nc\n",
    "d[\"NTC\"] = nt\n",
    "    \n",
    "print(d)"
   ]
  },
  {
   "cell_type": "code",
   "execution_count": 46,
   "metadata": {},
   "outputs": [
    {
     "data": {
      "text/plain": [
       "2"
      ]
     },
     "execution_count": 46,
     "metadata": {},
     "output_type": "execute_result"
    }
   ],
   "source": [
    "# dictionary inside list\n",
    "a = [{\"Name\":\"Ram\",\"NTC\":9856445432,\"NCELL\":9856554543},\n",
    "     {\"Name\":\"Shyam\",\"NTC\":9856445433,\"NCELL\":9856554544}]\n",
    "len(a)"
   ]
  },
  {
   "cell_type": "code",
   "execution_count": 47,
   "metadata": {},
   "outputs": [
    {
     "name": "stdout",
     "output_type": "stream",
     "text": [
      "[{'Name': 'Ram', 'NTC': 9856445432, 'NCELL': 9856554543}, {'Name': 'Shyam', 'NTC': 9856445433, 'NCELL': 9856554544}, {'Name': 'Shyam', 'NTC': 9856445433, 'NCELL': 9856554544}]\n"
     ]
    }
   ],
   "source": [
    "b = {\"Name\":\"Shyam\",\"NTC\":9856445433,\"NCELL\":9856554544}\n",
    "a.append(b)\n",
    "print(a)"
   ]
  },
  {
   "cell_type": "code",
   "execution_count": 50,
   "metadata": {},
   "outputs": [
    {
     "name": "stdout",
     "output_type": "stream",
     "text": [
      "{'Name': 'Ram', 'NTC': 9856445432, 'NCELL': 9856554543}\n",
      "{'Name': 'Shyam', 'NTC': 9856445433, 'NCELL': 9856554544}\n",
      "{'Name': 'Shyam', 'NTC': 9856445433, 'NCELL': 9856554544}\n"
     ]
    }
   ],
   "source": [
    "for i in a:\n",
    "    print(i)"
   ]
  },
  {
   "cell_type": "code",
   "execution_count": 54,
   "metadata": {},
   "outputs": [
    {
     "data": {
      "text/plain": [
       "[{'Name': 'Ram Prasad', 'NTC': 9856445432, 'NCELL': 9856554543},\n",
       " {'Name': 'Shyam', 'NTC': 9856445433, 'NCELL': 9856554544},\n",
       " {'Name': 'Shyam', 'NTC': 9856445433, 'NCELL': 9856554544}]"
      ]
     },
     "execution_count": 54,
     "metadata": {},
     "output_type": "execute_result"
    }
   ],
   "source": [
    "a[0][\"Name\"] = \"Ram Prasad\"\n",
    "a"
   ]
  },
  {
   "cell_type": "code",
   "execution_count": 1,
   "metadata": {},
   "outputs": [
    {
     "name": "stdout",
     "output_type": "stream",
     "text": [
      "{'Ram': {'NTC': 9856554543, 'NCELL': 9808445432}, 'Shyam': {'NTC': 9856004543, 'NCELL': 9808005432}}\n"
     ]
    }
   ],
   "source": [
    "# # dict inside dicts\n",
    "# a = {<key>:<Dicts>,<Key>:<Dicts>}\n",
    "a = {\"Ram\":{\"NTC\":9856554543,\"NCELL\":9808445432},\n",
    "    \"Shyam\":{\"NTC\":9856004543,\"NCELL\":9808005432}}\n",
    "print(a)"
   ]
  },
  {
   "cell_type": "code",
   "execution_count": 2,
   "metadata": {},
   "outputs": [
    {
     "name": "stdout",
     "output_type": "stream",
     "text": [
      "{'Ram': {'NTC': 9856554543, 'NCELL': 9808445432}, 'Shyam': {'NTC': 9856004543, 'NCELL': 9808005432}, 'Hari': {'NTC': 9867665643, 'NCELL': 9808445432}}\n"
     ]
    }
   ],
   "source": [
    "a[\"Hari\"] = {\"NTC\":9867665643,\"NCELL\":9808445432}\n",
    "print(a)"
   ]
  },
  {
   "cell_type": "code",
   "execution_count": 4,
   "metadata": {},
   "outputs": [
    {
     "name": "stdout",
     "output_type": "stream",
     "text": [
      "Entre n = 2\n",
      "Enter name = Ram\n",
      "Enter NTC no = 45646565\n",
      "Enter NCELL no = 5656465\n",
      "Enter name = Shyam\n",
      "Enter NTC no = 645645\n",
      "Enter NCELL no = 456456\n",
      "{'NTC': '645645', 'NCELL': '456456'}\n"
     ]
    }
   ],
   "source": [
    "d = {}\n",
    "n = int(input(\"Entre n = \"))\n",
    "for i in range(n):\n",
    "    name = input(\"Enter name = \")\n",
    "    ntc = input(\"Enter NTC no = \")\n",
    "    ncell = input(\"Enter NCELL no = \")\n",
    "    key = name\n",
    "    value = {'NTC':ntc,\"NCELL\":ncell}\n",
    "    d[key] = value\n",
    "print(value)"
   ]
  },
  {
   "cell_type": "code",
   "execution_count": 5,
   "metadata": {},
   "outputs": [
    {
     "name": "stdout",
     "output_type": "stream",
     "text": [
      "{'Ram': {'NTC': '45646565', 'NCELL': '5656465'}, 'Shyam': {'NTC': '645645', 'NCELL': '456456'}}\n"
     ]
    }
   ],
   "source": [
    "print(d)"
   ]
  },
  {
   "cell_type": "code",
   "execution_count": 8,
   "metadata": {},
   "outputs": [
    {
     "name": "stdout",
     "output_type": "stream",
     "text": [
      "Enter name = Ram\n"
     ]
    }
   ],
   "source": [
    "name = input(\"Enter name = \")"
   ]
  },
  {
   "cell_type": "code",
   "execution_count": 9,
   "metadata": {},
   "outputs": [
    {
     "name": "stdout",
     "output_type": "stream",
     "text": [
      "{'NTC': '45646565', 'NCELL': '5656465'}\n"
     ]
    }
   ],
   "source": [
    "print(d[name])"
   ]
  },
  {
   "cell_type": "code",
   "execution_count": 11,
   "metadata": {},
   "outputs": [
    {
     "name": "stdout",
     "output_type": "stream",
     "text": [
      "{'Ram': {'NTC': '45646565', 'NCELL': '5656465', 'Land': 4437889}, 'Shyam': {'NTC': '645645', 'NCELL': '456456'}}\n"
     ]
    }
   ],
   "source": [
    "a = {'Ram': {'NTC': '45646565', 'NCELL': '5656465'}, 'Shyam': {'NTC': '645645', 'NCELL': '456456'}}\n",
    "a['Ram']['Land'] = 4437889\n",
    "print(a)"
   ]
  },
  {
   "cell_type": "code",
   "execution_count": null,
   "metadata": {},
   "outputs": [],
   "source": []
  }
 ],
 "metadata": {
  "kernelspec": {
   "display_name": "Python 3",
   "language": "python",
   "name": "python3"
  },
  "language_info": {
   "codemirror_mode": {
    "name": "ipython",
    "version": 3
   },
   "file_extension": ".py",
   "mimetype": "text/x-python",
   "name": "python",
   "nbconvert_exporter": "python",
   "pygments_lexer": "ipython3",
   "version": "3.7.1"
  }
 },
 "nbformat": 4,
 "nbformat_minor": 2
}
