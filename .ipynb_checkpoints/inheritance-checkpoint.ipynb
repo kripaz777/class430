{
 "cells": [
  {
   "cell_type": "code",
   "execution_count": 1,
   "metadata": {},
   "outputs": [
    {
     "name": "stdout",
     "output_type": "stream",
     "text": [
      "Enter name = fsdfd\n",
      "Enter address = sdfsd\n",
      "fsdfd sdfsd\n"
     ]
    }
   ],
   "source": [
    "class Profile:\n",
    "    def __init__(self):\n",
    "        self.name = input(\"Enter name = \")\n",
    "        self.address = input(\"Enter address = \")\n",
    "\n",
    "        \n",
    "class Hr(Profile):\n",
    "    def info(self):\n",
    "        print(self.name, self.address)\n",
    "\n",
    "x = Hr()\n",
    "x.info()"
   ]
  },
  {
   "cell_type": "code",
   "execution_count": 4,
   "metadata": {},
   "outputs": [
    {
     "name": "stdout",
     "output_type": "stream",
     "text": [
      "Ram Nepal\n"
     ]
    }
   ],
   "source": [
    "class Profile:\n",
    "    def __init__(self, name, address):\n",
    "        self.name = name\n",
    "        self.address = address\n",
    "\n",
    "\n",
    "class Hr(Profile):\n",
    "    def info(self):\n",
    "        print(self.name, self.address)\n",
    "\n",
    "x = Hr(\"Ram\", \"Nepal\")\n",
    "x.info()\n",
    "\n"
   ]
  },
  {
   "cell_type": "code",
   "execution_count": 6,
   "metadata": {},
   "outputs": [
    {
     "name": "stdout",
     "output_type": "stream",
     "text": [
      "Hello, welcome John from USA to  Nepal\n",
      "John USA\n"
     ]
    }
   ],
   "source": [
    "class Profile:\n",
    "  def __init__(self, name, address):\n",
    "    self.name = name\n",
    "    self.address = address\n",
    "\n",
    "  def info(self):\n",
    "    print(self.name, self.address)\n",
    "\n",
    "class Student(Profile):\n",
    "  def __init__(self, name, address, country):\n",
    "    Profile.__init__(self, name, address)\n",
    "    self.country = country\n",
    "\n",
    "  def hello(self):\n",
    "    print(\"Hello, welcome\", self.name,\"from\", self.address, \"to \", self.country)\n",
    "\n",
    "x = Student(\"John\", \"USA\", \"Nepal\")\n",
    "x.hello()\n",
    "x.info()\n"
   ]
  },
  {
   "cell_type": "code",
   "execution_count": 9,
   "metadata": {},
   "outputs": [
    {
     "name": "stdout",
     "output_type": "stream",
     "text": [
      "Hello, welcome John from USA to  Nepal\n",
      "John\n"
     ]
    }
   ],
   "source": [
    "class Profile:\n",
    "  def __init__(self, name):\n",
    "    self.name = name\n",
    "\n",
    "  def info(self):\n",
    "    print(self.name)\n",
    "\n",
    "class Hr(Profile):\n",
    "  def __init__(self, add):\n",
    "    self.add = add\n",
    "\n",
    "  def hr(self):\n",
    "    print(self.add,self.name)\n",
    "    \n",
    "class Student(Hr):\n",
    "  def __init__(self, name, add, country):\n",
    "    Profile.__init__(self, name)\n",
    "    Hr.__init__(self, add)\n",
    "    self.country = country\n",
    "\n",
    "  def hello(self):\n",
    "    print(\"Hello, welcome\", self.name,\"from\", self.add, \"to \", self.country)\n",
    "\n",
    "x = Student(\"John\", \"USA\", \"Nepal\")\n",
    "x.hello()\n",
    "x.info()\n"
   ]
  },
  {
   "cell_type": "code",
   "execution_count": null,
   "metadata": {},
   "outputs": [],
   "source": [
    "class Person:  \n",
    "    #defining constructor  \n",
    "    def __init__(self, personName, personAge):  \n",
    "        self.name = personName  \n",
    "        self.age = personAge  \n",
    "        #defining class methods\n",
    "        def showName(self):\n",
    "            print(self.name)\n",
    "        def showAge(self):\n",
    "            print(self.age)\n",
    "class Student: # Person is the  \n",
    "    def __init__(self, studentId):\n",
    "        self.studentId = studentId\n",
    "        def getId(self):\n",
    "            return self.studentId\n",
    "class Resident(Person, Student): # extends both Person and Student class  \n",
    "    def __init__(self, name, age, id):  \n",
    "        Person.__init__(self, name, age)  \n",
    "        Student.__init__(self, id)  \n",
    "        # Create an object of the subclass  \n",
    "resident1 = Resident('Ram', 25, '2')  \n",
    "resident1.showName()  \n",
    "print(resident1.getId()) "
   ]
  },
  {
   "cell_type": "code",
   "execution_count": 11,
   "metadata": {},
   "outputs": [
    {
     "name": "stdout",
     "output_type": "stream",
     "text": [
      "Ram Nepal\n",
      "Hello I am Ram I am from Nepal\n"
     ]
    }
   ],
   "source": [
    "class Profile:\n",
    "    def __init__(self, name, address):\n",
    "        self.name = name\n",
    "        self.address = address\n",
    "    def profile(self):\n",
    "        return f\"Hello I am {self.name} I am from {self.address}\"\n",
    "\n",
    "\n",
    "class Hr(Profile):\n",
    "    def info(self):\n",
    "        print(self.name, self.address)\n",
    "    def hr(self):\n",
    "        print(super().profile())\n",
    "\n",
    "x = Hr(\"Ram\", \"Nepal\")\n",
    "x.info()\n",
    "x.hr()\n"
   ]
  },
  {
   "cell_type": "code",
   "execution_count": 12,
   "metadata": {},
   "outputs": [
    {
     "name": "stdout",
     "output_type": "stream",
     "text": [
      "Ram Nepal\n",
      "Hello I am Ram I am from Nepal\n"
     ]
    }
   ],
   "source": [
    "class Profile:\n",
    "    def __init__(self, name, address):\n",
    "        self.name = name\n",
    "        self.address = address\n",
    "    def profile(self):\n",
    "        print(f\"Hello I am {self.name} I am from {self.address}\")\n",
    "\n",
    "\n",
    "class Hr(Profile):\n",
    "    def info(self):\n",
    "        print(self.name, self.address)\n",
    "    def hr(self):\n",
    "        super().profile()\n",
    "\n",
    "x = Hr(\"Ram\", \"Nepal\")\n",
    "x.info()\n",
    "x.hr()\n"
   ]
  },
  {
   "cell_type": "code",
   "execution_count": 1,
   "metadata": {},
   "outputs": [
    {
     "name": "stdout",
     "output_type": "stream",
     "text": [
      "Ram\n",
      "Shyam\n",
      "34\n"
     ]
    }
   ],
   "source": [
    "# public\n",
    "class Profile:\n",
    "    def __init__(self,name,age,add):\n",
    "        self.name = name\n",
    "        self.age = age\n",
    "        self.add = add\n",
    "        \n",
    "x = Profile('Ram','Shyam',34)\n",
    "print(x.name)\n",
    "print(x.age)\n",
    "print(x.add)"
   ]
  },
  {
   "cell_type": "code",
   "execution_count": 3,
   "metadata": {},
   "outputs": [
    {
     "name": "stdout",
     "output_type": "stream",
     "text": [
      "Ram\n",
      "Shyam\n",
      "34\n"
     ]
    }
   ],
   "source": [
    "# protected\n",
    "class Profile:\n",
    "    def __init__(self,name,age,add):\n",
    "        self._name = name\n",
    "        self._age = age\n",
    "        self._add = add\n",
    "        \n",
    "x = Profile('Ram','Shyam',34)\n",
    "\n",
    "print(x._name)\n",
    "print(x._age)\n",
    "print(x._add)"
   ]
  },
  {
   "cell_type": "code",
   "execution_count": 5,
   "metadata": {},
   "outputs": [
    {
     "ename": "AttributeError",
     "evalue": "'Profile' object has no attribute '__name'",
     "output_type": "error",
     "traceback": [
      "\u001b[1;31m---------------------------------------------------------------------------\u001b[0m",
      "\u001b[1;31mAttributeError\u001b[0m                            Traceback (most recent call last)",
      "\u001b[1;32m<ipython-input-5-57462c2c845b>\u001b[0m in \u001b[0;36m<module>\u001b[1;34m\u001b[0m\n\u001b[0;32m      8\u001b[0m \u001b[0mx\u001b[0m \u001b[1;33m=\u001b[0m \u001b[0mProfile\u001b[0m\u001b[1;33m(\u001b[0m\u001b[1;34m'Ram'\u001b[0m\u001b[1;33m,\u001b[0m\u001b[1;34m'Shyam'\u001b[0m\u001b[1;33m,\u001b[0m\u001b[1;36m34\u001b[0m\u001b[1;33m)\u001b[0m\u001b[1;33m\u001b[0m\u001b[1;33m\u001b[0m\u001b[0m\n\u001b[0;32m      9\u001b[0m \u001b[1;33m\u001b[0m\u001b[0m\n\u001b[1;32m---> 10\u001b[1;33m \u001b[0mprint\u001b[0m\u001b[1;33m(\u001b[0m\u001b[0mx\u001b[0m\u001b[1;33m.\u001b[0m\u001b[0m__name\u001b[0m\u001b[1;33m)\u001b[0m\u001b[1;33m\u001b[0m\u001b[1;33m\u001b[0m\u001b[0m\n\u001b[0m\u001b[0;32m     11\u001b[0m \u001b[0mprint\u001b[0m\u001b[1;33m(\u001b[0m\u001b[0mx\u001b[0m\u001b[1;33m.\u001b[0m\u001b[0m__age\u001b[0m\u001b[1;33m)\u001b[0m\u001b[1;33m\u001b[0m\u001b[1;33m\u001b[0m\u001b[0m\n\u001b[0;32m     12\u001b[0m \u001b[0mprint\u001b[0m\u001b[1;33m(\u001b[0m\u001b[0mx\u001b[0m\u001b[1;33m.\u001b[0m\u001b[0m__add\u001b[0m\u001b[1;33m)\u001b[0m\u001b[1;33m\u001b[0m\u001b[1;33m\u001b[0m\u001b[0m\n",
      "\u001b[1;31mAttributeError\u001b[0m: 'Profile' object has no attribute '__name'"
     ]
    }
   ],
   "source": [
    "# private\n",
    "class Profile:\n",
    "    def __init__(self,name,age,add):\n",
    "        self.__name = name\n",
    "        self.__age = age\n",
    "        self.__add = add\n",
    "        \n",
    "x = Profile('Ram','Shyam',34)\n",
    "\n",
    "print(x.__name)\n",
    "print(x.__age)\n",
    "print(x.__add)"
   ]
  },
  {
   "cell_type": "code",
   "execution_count": 6,
   "metadata": {},
   "outputs": [
    {
     "name": "stdout",
     "output_type": "stream",
     "text": [
      "Ram\n",
      "Shyam\n",
      "34\n"
     ]
    }
   ],
   "source": [
    "# private\n",
    "class Profile:\n",
    "    def __init__(self,name,age,add):\n",
    "        self.__name = name\n",
    "        self.__age = age\n",
    "        self.__add = add\n",
    "        \n",
    "x = Profile('Ram','Shyam',34)\n",
    "\n",
    "print(x._Profile__name)\n",
    "print(x._Profile__age)\n",
    "print(x._Profile__add)"
   ]
  },
  {
   "cell_type": "code",
   "execution_count": 9,
   "metadata": {},
   "outputs": [
    {
     "name": "stdout",
     "output_type": "stream",
     "text": [
      "Hello WOrld i am Ram I am from Nepal I am 56\n"
     ]
    }
   ],
   "source": [
    "class Profile:\n",
    "    def __init__(self,name,age):\n",
    "        self.__name = name\n",
    "        self._age = age\n",
    "    def show(self):\n",
    "        return \"patan\"\n",
    "    \n",
    "class Hr(Profile):\n",
    "    def __init__(self,name,age,address):\n",
    "        Profile.__init__(self,name,age)\n",
    "        self.address = address\n",
    "        \n",
    "    def text(self):\n",
    "        print(f\"Hello WOrld i am {self._Profile__name} I am from {self.address} I am {self._age}\")\n",
    "        \n",
    "x = Hr(\"Ram\",56,'Nepal')\n",
    "x.text()\n",
    "print(x._Profile__name)\n",
    "print(self._age)"
   ]
  },
  {
   "cell_type": "code",
   "execution_count": 11,
   "metadata": {},
   "outputs": [
    {
     "name": "stdout",
     "output_type": "stream",
     "text": [
      "Hello WOrld i am Ram I am from patan I am 56\n",
      "Ram\n",
      "56\n"
     ]
    }
   ],
   "source": [
    "class Profile:\n",
    "    def __init__(self,name,age):\n",
    "        self.__name = name\n",
    "        self._age = age\n",
    "    def show(self):\n",
    "        return \"patan\"\n",
    "    \n",
    "class Hr(Profile):\n",
    "    def __init__(self,name,age,address):\n",
    "        Profile.__init__(self,name,age)\n",
    "        self.address = address\n",
    "        \n",
    "    def text(self):\n",
    "        print(f\"Hello WOrld i am {self._Profile__name} I am from {super().show()} I am {self._age}\")\n",
    "        \n",
    "x = Hr(\"Ram\",56,'Nepal')\n",
    "x.text()\n",
    "print(x._Profile__name)\n",
    "print(x._age)"
   ]
  },
  {
   "cell_type": "code",
   "execution_count": null,
   "metadata": {},
   "outputs": [],
   "source": [
    "class Profile:\n",
    "    def __init__(self,name,age):\n",
    "        self.__name = name\n",
    "        self._age = age\n",
    "    def show(self):\n",
    "        return self.__name\n",
    "    \n",
    "class Hr(Profile):\n",
    "    def __init__(self,name,age,address):\n",
    "        Profile.__init__(self,name,age)\n",
    "        self.address = address\n",
    "        \n",
    "    def text(self):\n",
    "        print(f\"Hello WOrld i am {super().show()} I am from {super().show()} I am {self._age}\")\n",
    "        \n",
    "x = Hr(\"Ram\",56,'Nepal')\n",
    "x.text()\n",
    "print(x._Profile__name)\n",
    "print(x._age)"
   ]
  }
 ],
 "metadata": {
  "kernelspec": {
   "display_name": "Python 3",
   "language": "python",
   "name": "python3"
  },
  "language_info": {
   "codemirror_mode": {
    "name": "ipython",
    "version": 3
   },
   "file_extension": ".py",
   "mimetype": "text/x-python",
   "name": "python",
   "nbconvert_exporter": "python",
   "pygments_lexer": "ipython3",
   "version": "3.7.1"
  }
 },
 "nbformat": 4,
 "nbformat_minor": 2
}
